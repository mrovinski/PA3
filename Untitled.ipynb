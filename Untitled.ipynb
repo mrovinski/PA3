{
 "cells": [
  {
   "cell_type": "markdown",
   "metadata": {},
   "source": [
    "# Programming Assignment 3\n",
    "\n",
    "**Author:** Molly Rovinski\n",
    "\n",
    "**Version:** 1.0\n",
    "\n",
    "**Semester:** Fall 2020"
   ]
  },
  {
   "cell_type": "markdown",
   "metadata": {},
   "source": [
    "**Problem A:** Write a Python program that will calculate the area and perimeter of a triangle using two different functions named calcArea() and calcPerimeter()."
   ]
  },
  {
   "cell_type": "code",
   "execution_count": 263,
   "metadata": {
    "scrolled": true
   },
   "outputs": [
    {
     "name": "stdout",
     "output_type": "stream",
     "text": [
      "Enter the length of side A: \n",
      "Enter the length of side B: \n",
      "Enter the length of side C: \n",
      "The area of the triangle is approximatly 0.43 square units.\n",
      "The perimeter of the triangle is 3 linear units.\n"
     ]
    },
    {
     "data": {
      "text/plain": [
       "3"
      ]
     },
     "execution_count": 263,
     "metadata": {},
     "output_type": "execute_result"
    }
   ],
   "source": [
    "import math\n",
    "from math import sqrt\n",
    "\n",
    "a = int(input(\"Enter the length of side A: \") or \"1\")\n",
    "b = int(input(\"Enter the length of side B: \") or \"1\")\n",
    "c = int(input(\"Enter the length of side C: \") or \"1\") \n",
    "    \n",
    "def calcArea(a,b,c): \n",
    "    s = (a+b+c)/2\n",
    "    area = sqrt(s*(s-a)*(s-b)*(s-c))\n",
    "    print (\"The area of the triangle is approximatly\", f'{area:.2F}', \"square units.\")\n",
    "    return area\n",
    "def calcPerimeter(a,b,c):\n",
    "    perimeter = a + b + c\n",
    "    print (\"The perimeter of the triangle is\", perimeter, \"linear units.\")\n",
    "    return perimeter\n",
    "\n",
    "calcArea(a,b,c)\n",
    "calcPerimeter(a,b,c)"
   ]
  },
  {
   "cell_type": "markdown",
   "metadata": {},
   "source": [
    "**Problem B:** Write a Python program to play **\"Guess the Number\"**. "
   ]
  },
  {
   "cell_type": "code",
   "execution_count": 127,
   "metadata": {},
   "outputs": [
    {
     "name": "stdout",
     "output_type": "stream",
     "text": [
      "Enter your guess: 1\n",
      "Too low! Guess Again.\n",
      "Enter your guess: 2\n",
      "Too low! Guess Again.\n",
      "Enter your guess: 3\n",
      "Too low! Guess Again.\n",
      "Enter your guess: 4\n",
      "Too low! Guess Again.\n",
      "Enter your guess: 5\n",
      "Too low! Guess Again.\n",
      "Enter your guess: 6\n",
      "Too low! Guess Again.\n",
      "Enter your guess: 7\n",
      "Too low! Guess Again.\n",
      "Enter your guess: 8\n",
      "Too low! Guess Again.\n",
      "Enter your guess: 9\n",
      "Too low! Guess Again.\n",
      "Enter your guess: 0\n",
      "Too low! Guess Again.\n",
      "Enter your guess: 10\n",
      "Too low! Guess Again.\n",
      "Enter your guess: 11\n",
      "Too low! Guess Again.\n",
      "Enter your guess: 12\n",
      "Too low! Guess Again.\n",
      "Enter your guess: 13\n",
      "Too low! Guess Again.\n",
      "Enter your guess: 999\n",
      "Too high! Guess Again.\n",
      "Enter your guess: 900\n",
      "Too high! Guess Again.\n",
      "Enter your guess: 800\n",
      "Too high! Guess Again.\n",
      "Enter your guess: 700\n",
      "Too low! Guess Again.\n",
      "Enter your guess: 750\n",
      "Too high! Guess Again.\n",
      "Enter your guess: 740\n",
      "Too high! Guess Again.\n",
      "Enter your guess: 730\n",
      "Too high! Guess Again.\n",
      "Enter your guess: 720\n",
      "Too low! Guess Again.\n",
      "Enter your guess: 725\n",
      "Too high! Guess Again.\n",
      "Enter your guess: 724\n",
      "Too high! Guess Again.\n",
      "Enter your guess: 723\n",
      "Correct!\n"
     ]
    }
   ],
   "source": [
    "import random\n",
    "\n",
    "def evaluateGuess(x,guess):\n",
    "    x = random.randint(1,1001)\n",
    "    guess = int(input(\"Enter your guess: \"))\n",
    "    while guess != x:\n",
    "        if guess > x:\n",
    "            print (\"Too high! Guess Again.\")\n",
    "            guess = int(input(\"Enter your guess: \"))\n",
    "        elif guess < x:\n",
    "            print (\"Too low! Guess Again.\")\n",
    "            guess = int(input(\"Enter your guess: \")) \n",
    "    print (\"Correct!\")\n",
    "    return\n",
    "evaluateGuess(x,guess)"
   ]
  },
  {
   "cell_type": "markdown",
   "metadata": {},
   "source": [
    "**Problem C:** Write a Python program to calculate the mean temperature over a set of Fahrenheit temperature values. "
   ]
  },
  {
   "cell_type": "code",
   "execution_count": 210,
   "metadata": {},
   "outputs": [
    {
     "name": "stdout",
     "output_type": "stream",
     "text": [
      "The mean temperature for the past 8 days is 82.88 degrees F.\n"
     ]
    },
    {
     "data": {
      "text/plain": [
       "82.875"
      ]
     },
     "execution_count": 210,
     "metadata": {},
     "output_type": "execute_result"
    }
   ],
   "source": [
    "import statistics \n",
    "\n",
    "def calc_meantemp():\n",
    "    temperatures = [88,79,91,101,76,99,72,57]\n",
    "    t = statistics.mean(temperatures)\n",
    "    print (\"The mean temperature for the past\", len(temperatures), \"days is\", f'{t:.2F}', \"degrees F.\")\n",
    "    return t\n",
    "calc_meantemp()"
   ]
  }
 ],
 "metadata": {
  "kernelspec": {
   "display_name": "Python 3",
   "language": "python",
   "name": "python3"
  },
  "language_info": {
   "codemirror_mode": {
    "name": "ipython",
    "version": 3
   },
   "file_extension": ".py",
   "mimetype": "text/x-python",
   "name": "python",
   "nbconvert_exporter": "python",
   "pygments_lexer": "ipython3",
   "version": "3.8.3"
  }
 },
 "nbformat": 4,
 "nbformat_minor": 4
}
